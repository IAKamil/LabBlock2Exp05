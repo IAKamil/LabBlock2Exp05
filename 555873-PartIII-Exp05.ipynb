{
 "cells": [
  {
   "cell_type": "markdown",
   "id": "12784c2b",
   "metadata": {},
   "source": [
    "# Imran Kamil 555873\n",
    "## Logbook for The production and Characterisation of X-Rays\n",
    "## Created : 08/08/2023\n",
    "## Final Version : 13/08/2023"
   ]
  },
  {
   "cell_type": "markdown",
   "id": "1ea7d0d0",
   "metadata": {},
   "source": [
    "## Context"
   ]
  },
  {
   "cell_type": "markdown",
   "id": "e373f49b",
   "metadata": {},
   "source": [
    "X-rays, a form of electromagnetic radiation, has numerous applications in our world. One well known example is it's use in the medical field to see through the human skin. To better understand this form of radiation, we must first find out where it's coming from, and what makes it different from other forms of electromagnetic radiation."
   ]
  },
  {
   "cell_type": "markdown",
   "id": "6bedf677",
   "metadata": {},
   "source": [
    "## Background"
   ]
  },
  {
   "cell_type": "markdown",
   "id": "0a77b74f",
   "metadata": {},
   "source": [
    "While there may be other processes that creates X-Rays, only two are relevant to this experiment. They are characteristic emission, and the *Bremsstrahlung* effect."
   ]
  },
  {
   "cell_type": "markdown",
   "id": "d5241b7a",
   "metadata": {},
   "source": [
    "### *Bremsstrahlung*\n",
    "*Bremsstrahlung*, also known as braking radiation, is a process whereby a charged particle moving faster relative to another charged particle, decelerates due to the interaction between the two, and thus reducing it's energy. An electromagnetic radiation is then emitted, proportional to the energy lost by the moving charged particle, in order to satisfy the law of conservation of energy.\n",
    "\n",
    "For a moving electron, where all of it's energy is converted into radiation, and assuming it's non-relativistic"
   ]
  },
  {
   "cell_type": "markdown",
   "id": "7f26becd",
   "metadata": {},
   "source": [
    "$$\n",
    "E_{e} = E_{X-ray}\n",
    "$$\n",
    "Then substituting in the definition for each,\n",
    "$$ \\frac{1}{2}m_{e}v^{2} = \\frac{hc}{\\lambda} $$\n",
    "Therefore,\n",
    "$$ v^2 \\propto \\frac{1}{\\lambda} $$"
   ]
  },
  {
   "cell_type": "markdown",
   "id": "9933d5d9",
   "metadata": {},
   "source": [
    "### Characteristic Emission"
   ]
  },
  {
   "cell_type": "markdown",
   "id": "9aba9d46",
   "metadata": {},
   "source": [
    "A fast moving particle, e.g. an electron, may be able to create a gap in the inner shell of an atom by colliding into an electron from that shell. This forces electrons from higher energy levels in the atom to fill that gap. As they drop to a lower energy, a photon is emitted with a specific frequency, related to the energy gap between the two levels for that particular atom."
   ]
  },
  {
   "cell_type": "markdown",
   "id": "47062bb9",
   "metadata": {},
   "source": [
    "For a Hydrogenic atom with Z as its atomic number, its Binding energy at the nth energy level is\n",
    "$$\n",
    "E_{n} = -13.6\\frac{Z^2}{n^2}\n",
    "$$\n",
    "The difference between two energy levels is then\n",
    "$$\n",
    "\\Delta E= -13.6Z^2(\\frac{1}{{n_1}^2}-\\frac{1}{{n_2}^2})\n",
    "$$\n",
    "Where it will emit a photon with wavelength $\\lambda$\n",
    "$$ \\Delta E = \\frac{hc}{\\lambda} $$\n",
    "Therefore\n",
    "$$ \\lambda = \\frac{hc}{\\Delta E} $$"
   ]
  },
  {
   "cell_type": "markdown",
   "id": "e4832dec",
   "metadata": {},
   "source": [
    "## Aims"
   ]
  },
  {
   "cell_type": "markdown",
   "id": "c8d8484d",
   "metadata": {},
   "source": [
    "The aim for this experiment is to observe the characteristic emission of the copper anode, as well as to calculate the Rydberg Constant by observing the absorption edges of the various absorbers."
   ]
  },
  {
   "cell_type": "markdown",
   "id": "82f778a5",
   "metadata": {},
   "source": [
    "## Experiment"
   ]
  },
  {
   "cell_type": "markdown",
   "id": "6093fc4d",
   "metadata": {},
   "source": [
    "### Apparatus"
   ]
  },
  {
   "cell_type": "markdown",
   "id": "56818e49",
   "metadata": {},
   "source": [
    "For this experiment, we will use the X-Ray PhyWE XR4.0 expert unit. It emits X-rays by accelerating electrons from a filament inside a vacuum tube, towards a copper anode. The anode produce X-Rays from the methods described in the Background section, and they are allowed to escape through a small diaphragm onto a Goniometer, Where a LiF crystal and a Geiger-Muller tube acting as an X-Ray detector is mounted on. Additionally, The Goniometer is able to vary the angle of both the detector and the crystal with respect to the source.\n",
    "\n",
    "The XR4.0 Expert unit has an associated software that we can use to operate it. This \"Measure\" software allows us to alter the settings of the unit. It is also capable of analysing our observations, allowing us to obtain the Rydberg constant with ease."
   ]
  },
  {
   "cell_type": "markdown",
   "id": "fc669198",
   "metadata": {},
   "source": [
    "In order to measure the energy of the X-Ray, we can take advantage of Bragg's law and the goniometer capabilities to vary it's angle. The LiF crystal will cause the X-Ray to diffract, allowing us to measure the wavelength of the X-ray from its incident angle.\n",
    "\n",
    "From Bragg's Law, the wavelength $\\lambda$ incident on the crystal at an angle $\\theta$ is related by\n",
    "$$\n",
    "n\\lambda = 2d\\sin{\\theta}\n",
    "$$\n",
    "Where n is the mode of the wave, and for most of the experiment is 1, and d is the spacing of the crystal, which for our experiment is 201.4pm.\n",
    "We can also relate the wavelength to the energy of the X-ray\n",
    "$$\n",
    "E_{X-ray} = \\frac{hc}{\\lambda}\n",
    "$$\n",
    "Rearranging gives,\n",
    "$$\n",
    "\\lambda = \\frac{hc}{E_{X-ray}}\n",
    "$$\n",
    "and therefore,\n",
    "$$\n",
    "\\frac{hc}{E_{X-ray}} = 2d\\sin{\\theta}\n",
    "$$\n",
    "or also\n",
    "$$\n",
    "E_{X-ray} = \\frac{hc}{2d\\sin{\\theta}}\n",
    "$$"
   ]
  },
  {
   "cell_type": "markdown",
   "id": "9768f0b5",
   "metadata": {},
   "source": [
    "### Emission Spectrum for Copper"
   ]
  },
  {
   "cell_type": "markdown",
   "id": "afd45e48",
   "metadata": {},
   "source": [
    "With the following settings,\n",
    "\n",
    "| Setting          | Value        |\n",
    "|------------------|--------------|\n",
    "| LiF Mode         | 1:2 Coupling |\n",
    "| Start Angle      | 0            |\n",
    "| Finish Angle     | 55           |\n",
    "| Angle Increments | 0.1          |\n",
    "| Integration Time | 2            |\n",
    "\n",
    "with Angles in degrees and Integration time in seconds."
   ]
  },
  {
   "cell_type": "markdown",
   "id": "73b5048e",
   "metadata": {},
   "source": [
    "We obtained the following graph\n",
    "\n",
    "![Copper Characteristic Emission](images\\Copper_Spectrum.jpg)"
   ]
  },
  {
   "cell_type": "markdown",
   "id": "97fd6124",
   "metadata": {},
   "source": [
    "There are a few notable points from the graph shown,\\\n",
    "at $~4^{\\circ}$, a peak corresponding to the *Bremsstrahlung* from copper is visible.\\\n",
    "at $~20.25^{\\circ}$, a peak corresponding to the $K_{\\beta}$ emission is visible.\\\n",
    "at $~22.5^{\\circ}$, a peak corresponding to the $K_{\\alpha}$ emission is visible.\\\n",
    "at $~43.6^{\\circ}$, a peak corresponding to the 2nd mode of the $K_{\\beta}$ emission is visible.\\\n",
    "at $~49.8^{\\circ}$, a peak corresponding to the 2nd mode of the $K_{\\alpha}$ emission is visible."
   ]
  },
  {
   "cell_type": "markdown",
   "id": "26c81702",
   "metadata": {},
   "source": [
    "We can measure the energy for those peaks from the equation at the start of the section,\n",
    "$$\n",
    "E_{X-ray} = \\frac{hc}{2d\\sin{\\theta}}\n",
    "$$\n",
    "Which for the $K_{\\beta}$ corresponds to $8.90$ $keV$ and for the $K_{\\alpha}$ corresponds to $8.05$ $keV$"
   ]
  },
  {
   "cell_type": "markdown",
   "id": "719381ad",
   "metadata": {},
   "source": [
    "### Measuring the Rydberg Constant"
   ]
  },
  {
   "cell_type": "markdown",
   "id": "6db40edb",
   "metadata": {},
   "source": [
    "We can measure the binding energy of an atom by observing its spectrum on the machine. X-rays will be absorbed by the atom through the photoelectric effect. However, There will be a point where the energy of the X-rays are not sufficient enough to trigger this effect. This results in an increase of X-rays reaching the detector, thus causing a jump in the graph. "
   ]
  },
  {
   "cell_type": "markdown",
   "id": "6d8ab57f",
   "metadata": {},
   "source": [
    "Measurements are made with the following settings\n",
    "\n",
    "| Setting          | Value        |\n",
    "|------------------|--------------|\n",
    "| LiF Mode         | 1:2 Coupling |\n",
    "| Start Angle      | 0            |\n",
    "| Finish Angle     | 25           |\n",
    "| Angle Increments | 0.1          |\n",
    "| Integration Time | 3            |\n"
   ]
  },
  {
   "cell_type": "markdown",
   "id": "db547f9d",
   "metadata": {},
   "source": [
    "4 Elements are measured with their characteristics as follows\n",
    "\n",
    "| Element | Z   | Expected Energy | Expected Angle  |\n",
    "|---------|-----|-----------------|-----------------|\n",
    "| Zn      | 30  | 8.58 keV        | $19.25^{\\circ}$ |\n",
    "| Ge      | 32  | 9.81 keV        | $18.10^{\\circ}$ |\n",
    "| Se      | 34  | 11.11 keV       | $15.87^{\\circ}$ |\n",
    "| K       | 35  | 11.79 keV       | $14.94^{\\circ}$ |\n"
   ]
  },
  {
   "cell_type": "markdown",
   "id": "4bdd09c0",
   "metadata": {},
   "source": [
    "#### Zn Spectrum"
   ]
  },
  {
   "cell_type": "markdown",
   "id": "c434108c",
   "metadata": {},
   "source": [
    "The following was observed with Zn as the absorber\n",
    "\n",
    "![Zn Spectrum](images\\Zn_Spectrum.jpg)\n",
    "\n",
    "and through the use of the \"Measure\" software analysis tool, we obtained this graph\n",
    "\n",
    "![Zn Energy Graph](images\\Zn_Energy.jpg)\n",
    "\n",
    "Where there is a drop in detected impulses at around 9.8 keV, which corresponds to the absorption edge of Zn"
   ]
  },
  {
   "cell_type": "markdown",
   "id": "286bbd36",
   "metadata": {},
   "source": [
    "#### Ge Spectrum"
   ]
  },
  {
   "cell_type": "markdown",
   "id": "37cb89c3",
   "metadata": {},
   "source": [
    "Similarly, The following was observed with Ge as the absorber, where the edge is highlighted in yellow\n",
    "\n",
    "![Ge Spectrum](images\\Ge_Spectrum.jpg)\n",
    "\n",
    "and through the use of the \"Measure\" software analysis tool, we obtained this graph\n",
    "\n",
    "![Ge Energy Graph](images\\Ge_Energy.jpg)\n",
    "\n",
    "Where there is a drop in detected impulses at around 11.01 keV, highlighted in yellow."
   ]
  },
  {
   "cell_type": "markdown",
   "id": "bcf6af3d",
   "metadata": {},
   "source": [
    "#### Se Spectrum"
   ]
  },
  {
   "cell_type": "markdown",
   "id": "1bfbb2a0",
   "metadata": {},
   "source": [
    "The following was observed with Se as the absorber, where the edge is highlighted in yellow\n",
    "\n",
    "![Se Spectrum](images\\Se_Spectrum.jpg)\n",
    "\n",
    "and through the use of the \"Measure\" software analysis tool, we obtained this graph\n",
    "\n",
    "![Se Energy Graph](images\\Se_Energy.jpg)\n",
    "\n",
    "Where there is a drop in detected impulses at around 12.47 keV, highlighted in yellow."
   ]
  },
  {
   "cell_type": "markdown",
   "id": "4811c67a",
   "metadata": {},
   "source": [
    "#### K Spectrum"
   ]
  },
  {
   "cell_type": "markdown",
   "id": "54cd0410",
   "metadata": {},
   "source": [
    "Lastly, The following was observed with KBr as the absorber, where the edge is highlighted in yellow\n",
    "\n",
    "![K Spectrum](images\\Potass_Spectrum.jpg)\n",
    "\n",
    "and through the use of the \"Measure\" software analysis tool, we obtained this graph\n",
    "\n",
    "![K Energy Graph](images\\Potass_Energy.jpg)\n",
    "\n",
    "Where there is a drop in detected impulses at around 11.01 keV, highlighted in yellow."
   ]
  },
  {
   "cell_type": "markdown",
   "id": "29512826",
   "metadata": {},
   "source": [
    "As a result, we obtained the following\n",
    "\n",
    "| Element | Z   | Edge Energy | Edge Angle  |\n",
    "|---------|-----|-------------|-------------|\n",
    "| Zn      | 30  | 9.8 keV     | $18.6^{\\circ}$ |\n",
    "| Ge      | 32  | 11.01 keV   | $16.0^{\\circ}$ |\n",
    "| Se      | 34  | 12.47 keV   | $14.1^{\\circ}$ |\n",
    "| K       | 35  | 13.31 keV   | $13.1^{\\circ}$ |"
   ]
  },
  {
   "cell_type": "markdown",
   "id": "12ea28a7",
   "metadata": {},
   "source": [
    "## Analysis"
   ]
  },
  {
   "cell_type": "markdown",
   "id": "82a8c51c",
   "metadata": {},
   "source": [
    "In order to measure the Rydberg constant, we must first measure the Absorption energies of the absorbers. By relating their absorption energies to their atomic numbers, we can create a trendline from a scatter plot called a moseley line. The slope of this line is proportional to the Rydberg Constant."
   ]
  },
  {
   "cell_type": "markdown",
   "id": "3277053e",
   "metadata": {},
   "source": [
    "From the Binding energy equation\n",
    "$$\n",
    "E_{n} = -13.6\\frac{Z^2}{n^2}\n",
    "$$\n",
    "or a more involved version\n",
    "$$\n",
    "E_{n} = -\\frac{m_{e}e^{4}Z^2}{8{\\epsilon_{0}}^{2}h^{2}n^2}\n",
    "$$\n",
    "We can simplify this as\n",
    "$$\n",
    "E_{n} = R\\frac{Z^2}{n^2}\n",
    "$$\n",
    "Where $ R = \\frac{m_{e}e^{4}}{8{\\epsilon_{0}}^{2}h^{2}} = -13.6 $ $eV$"
   ]
  },
  {
   "cell_type": "markdown",
   "id": "68177d74",
   "metadata": {},
   "source": [
    "for n = 1, this implies\n",
    "$$\n",
    "E_{n} = RZ^2\n",
    "$$\n",
    "but Z is only for a hydrogenic atom, for a more complicated atom, a screening constant is subtracted from Z\n",
    "$$\n",
    "E_{n} = R(Z-\\sigma)^2\n",
    "$$\n",
    "Taking the square root, then rearranging\n",
    "$$\n",
    "\\sqrt{RE_{n}}+\\sigma = Z\n",
    "$$\n",
    "Which looks like the equation for a line, with $ \\sqrt{R} $ as the gradient,  $ \\sqrt{E_{n}} $ as the X-axis, and Z as the Y-axis "
   ]
  },
  {
   "cell_type": "markdown",
   "id": "22e2860e",
   "metadata": {},
   "source": [
    "Utilizing the analysis function of the \"Measure\" software to calculate the Rydberg constant, by inputting Zs and their associated edge energies, then clicking on the \"Calculate Rydberg constant\", we arrived at a value of $ 2.9 \\pm 0.2 $ \n",
    "$ \\times $ $ 10^{15} $$Hz$"
   ]
  },
  {
   "cell_type": "markdown",
   "id": "58eacd16",
   "metadata": {},
   "source": [
    "## Conclusion and Discussion"
   ]
  },
  {
   "cell_type": "markdown",
   "id": "9d5f25d2",
   "metadata": {},
   "source": [
    "The value we obtained is not that far off from the widely accepted value of $ 3.289 \\times 10^{15} Hz$, lying within two standard deviations."
   ]
  },
  {
   "cell_type": "markdown",
   "id": "39eb7919",
   "metadata": {},
   "source": [
    "The disparity between the two can be attributed to the fact that the absorber are not prepared properly. The absorber materials are crushed in a mortar and pestle by hand, and is therefore susceptible to human error. The thickness of the sample can affect the experiment. A thick absorber will fully absorb all the X-rays, while a thin absorber will not interact with the X-ray at all. "
   ]
  },
  {
   "cell_type": "markdown",
   "id": "8c46ca03",
   "metadata": {},
   "source": [
    "There were two more materials tested, Tungsten and Mercury. As they are high in Z, it follows that their absorption edges corresponds to small angles, enough such that I was unable to distinguish between it and the *Bremsstrahlung* of the copper anode. "
   ]
  },
  {
   "cell_type": "markdown",
   "id": "e0b2b758",
   "metadata": {},
   "source": [
    "Calculating the Rydberg Constant manually, with the help of Excel and/or Python, results in a value of 2.6~2.7 PHz, which is even further away from the accepted value for the Rydberg Constant."
   ]
  },
  {
   "cell_type": "code",
   "execution_count": null,
   "id": "fdf21e9d",
   "metadata": {},
   "outputs": [],
   "source": []
  }
 ],
 "metadata": {
  "kernelspec": {
   "display_name": "Python 3 (ipykernel)",
   "language": "python",
   "name": "python3"
  },
  "language_info": {
   "codemirror_mode": {
    "name": "ipython",
    "version": 3
   },
   "file_extension": ".py",
   "mimetype": "text/x-python",
   "name": "python",
   "nbconvert_exporter": "python",
   "pygments_lexer": "ipython3",
   "version": "3.9.13"
  }
 },
 "nbformat": 4,
 "nbformat_minor": 5
}
